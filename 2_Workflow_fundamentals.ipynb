{
 "cells": [
  {
   "attachments": {},
   "cell_type": "markdown",
   "metadata": {},
   "source": [
    "Training fundamentals\n",
    "Here, a pytorch model is trained on a straight line dataset"
   ]
  },
  {
   "attachments": {},
   "cell_type": "markdown",
   "metadata": {},
   "source": [
    "5 Steps\n",
    "1. Getting data\n",
    "2. Model Build\n",
    "3. Fitting (Model Training)\n",
    "4. Val+Test\n",
    "5. Save and load"
   ]
  },
  {
   "cell_type": "code",
   "execution_count": 1,
   "metadata": {},
   "outputs": [
    {
     "name": "stderr",
     "output_type": "stream",
     "text": [
      "c:\\Users\\Mallinathan G\\AppData\\Local\\Programs\\Python\\Python310\\lib\\site-packages\\numpy\\_distributor_init.py:30: UserWarning: loaded more than 1 DLL from .libs:\n",
      "c:\\Users\\Mallinathan G\\AppData\\Local\\Programs\\Python\\Python310\\lib\\site-packages\\numpy\\.libs\\libopenblas.FB5AE2TYXYH2IJRDKGDGQ3XBKLKTF43H.gfortran-win_amd64.dll\n",
      "c:\\Users\\Mallinathan G\\AppData\\Local\\Programs\\Python\\Python310\\lib\\site-packages\\numpy\\.libs\\libopenblas64__v0.3.21-gcc_10_3_0.dll\n",
      "  warnings.warn(\"loaded more than 1 DLL from .libs:\"\n",
      "c:\\Users\\Mallinathan G\\AppData\\Local\\Programs\\Python\\Python310\\lib\\site-packages\\tqdm\\auto.py:22: TqdmWarning: IProgress not found. Please update jupyter and ipywidgets. See https://ipywidgets.readthedocs.io/en/stable/user_install.html\n",
      "  from .autonotebook import tqdm as notebook_tqdm\n"
     ]
    }
   ],
   "source": [
    "#importing\n",
    "import torch\n",
    "from torch import nn #for neural net building\n",
    "import matplotlib.pyplot as plt"
   ]
  },
  {
   "cell_type": "code",
   "execution_count": 2,
   "metadata": {},
   "outputs": [
    {
     "name": "stdout",
     "output_type": "stream",
     "text": [
      "tensor([[0.0000],\n",
      "        [0.0200],\n",
      "        [0.0400],\n",
      "        [0.0600],\n",
      "        [0.0800],\n",
      "        [0.1000],\n",
      "        [0.1200],\n",
      "        [0.1400],\n",
      "        [0.1600],\n",
      "        [0.1800]]) tensor([[0.3000],\n",
      "        [0.3140],\n",
      "        [0.3280],\n",
      "        [0.3420],\n",
      "        [0.3560],\n",
      "        [0.3700],\n",
      "        [0.3840],\n",
      "        [0.3980],\n",
      "        [0.4120],\n",
      "        [0.4260]])\n"
     ]
    }
   ],
   "source": [
    "#Data preps and loading\n",
    "#Generating data of X and Y of a straight line\n",
    "w = 0.7\n",
    "bias = 0.3\n",
    "#Formulation\n",
    "x = torch.arange(0, 1, 0.02).unsqueeze(dim=1)\n",
    "y  = w*x + bias\n",
    "print(x[:10], y[:10])"
   ]
  },
  {
   "attachments": {},
   "cell_type": "markdown",
   "metadata": {},
   "source": [
    "Train Test Split\n",
    "Train -> Training; Test -> Testing; Validation -> optimising model (optional)"
   ]
  },
  {
   "cell_type": "code",
   "execution_count": 3,
   "metadata": {},
   "outputs": [
    {
     "name": "stdout",
     "output_type": "stream",
     "text": [
      "40 10 40 10\n"
     ]
    }
   ],
   "source": [
    "#Creating Test Train Split\n",
    "train_split = int(.8*len(x)) #80:20 Split\n",
    "x_train, y_train = x[:train_split], y[:train_split]\n",
    "x_test, y_test = x[train_split:], y[train_split:]\n",
    "\n",
    "print(len(x_train), len(x_test), len(y_train), len(y_test))"
   ]
  },
  {
   "attachments": {},
   "cell_type": "markdown",
   "metadata": {},
   "source": [
    "Data Visualisation"
   ]
  },
  {
   "cell_type": "code",
   "execution_count": 4,
   "metadata": {},
   "outputs": [],
   "source": [
    "def plot_predictions(train_data = x_train, train_labels = y_train, test_data = x_test, test_labels = y_test, predictions = None):\n",
    "    plt.figure(figsize=(10, 10))\n",
    "    #train plot\n",
    "    plt.scatter(train_data, train_labels, c = \"black\", s=4, label = \"Training\")\n",
    "    #test plot\n",
    "    plt.scatter(test_data, test_labels, c = \"b\", s=4, label = \"Test\")\n",
    "    if predictions is not None:\n",
    "        #predictio  plot\n",
    "        plt.scatter(test_data, predictions, c = \"g\", s=4, label = \"Predictions\")\n",
    "    plt.legend(prop= {\"size\": 14})    "
   ]
  },
  {
   "cell_type": "code",
   "execution_count": 5,
   "metadata": {},
   "outputs": [
    {
     "data": {
      "image/png": "[encoded data removed]",
      "text/plain": [
       "<Figure size 720x720 with 1 Axes>"
      ]
     },
     "metadata": {
      "needs_background": "light"
     },
     "output_type": "display_data"
    }
   ],
   "source": [
    "plot_predictions()"
   ]
  },
  {
   "attachments": {},
   "cell_type": "markdown",
   "metadata": {},
   "source": [
    "Implimenting a simple linear regression model using class (Basic Implimentation)\n",
    "1. torch.nn -> parent library (class) of all definitions contains all building blocks (layers)\n",
    "2. torch.nn.parameter -> contains params like weights and biases\n",
    "3. nn.Module ->direct parent of defined class (LinearRegressionModel)\n",
    "4. def forward(): -> must have function defining the computation logics of the defined module\n",
    "5. torch.optim -> contains hyperparms like optimizers"
   ]
  },
  {
   "cell_type": "code",
   "execution_count": 6,
   "metadata": {},
   "outputs": [],
   "source": [
    "#Defining a child class of nn module class\n",
    "class LinearRegressionModel(nn.Module):\n",
    "    def __init__(self): #Constructor for the child class\n",
    "        super().__init__() #Force call of the constructor of its parent class\n",
    "        self.weights = nn.Parameter(torch.randn(1,          #1 dim unit random tensor\n",
    "                                    dtype=torch.float),    #of float type\n",
    "                                    requires_grad=True)   #to enable track operations in forward pass to compute gradients automatically during back prop\n",
    "        self.bias = nn.Parameter(torch.randn(1, dtype=torch.float),requires_grad=True)\n",
    "    #defining a forward pass function (logistic regression)\n",
    "    #Taking self and x as the input (x being tensor)\n",
    "    #-> torch.Tensor represents the return value\n",
    "    def forward(self, x : torch.Tensor) -> torch.Tensor: \n",
    "        return self.weights * x + self.bias #Logistic regression formula    "
   ]
  },
  {
   "attachments": {},
   "cell_type": "markdown",
   "metadata": {},
   "source": [
    "Checking the contents of the defined model using .parameters() function"
   ]
  },
  {
   "cell_type": "code",
   "execution_count": 7,
   "metadata": {},
   "outputs": [
    {
     "name": "stdout",
     "output_type": "stream",
     "text": [
      "[Parameter containing:\n",
      "tensor([0.3367], requires_grad=True), Parameter containing:\n",
      "tensor([0.1288], requires_grad=True)]\n",
      "OrderedDict([('weights', tensor([0.3367])), ('bias', tensor([0.1288]))])\n"
     ]
    }
   ],
   "source": [
    "#set random seed\n",
    "torch.manual_seed(42)\n",
    "#creating an object\n",
    "model_0 = LinearRegressionModel()\n",
    "#Listing the parameters\n",
    "print(list(model_0.parameters()))\n",
    "#gettting state in a dict format\n",
    "print(model_0.state_dict())"
   ]
  },
  {
   "attachments": {},
   "cell_type": "markdown",
   "metadata": {},
   "source": [
    "Initial predictions using x_test and torch.inference_mode()\n",
    "1. This function will automatically call the defined forward function\n",
    "2. This function switches off a few things like gradient tracking (as it is a predicting function and requires no backprop) making faster inferences\n",
    "3. Since the data is not trained, the prediction is a line based on the randomly generated values"
   ]
  },
  {
   "cell_type": "code",
   "execution_count": 8,
   "metadata": {},
   "outputs": [
    {
     "name": "stdout",
     "output_type": "stream",
     "text": [
      "Error:  tensor([[0.4618],\n",
      "        [0.4691],\n",
      "        [0.4764],\n",
      "        [0.4836],\n",
      "        [0.4909],\n",
      "        [0.4982],\n",
      "        [0.5054],\n",
      "        [0.5127],\n",
      "        [0.5200],\n",
      "        [0.5272]])\n"
     ]
    },
    {
     "data": {
      "image/png": "[encoded data removed]",
      "text/plain": [
       "<Figure size 720x720 with 1 Axes>"
      ]
     },
     "metadata": {
      "needs_background": "light"
     },
     "output_type": "display_data"
    }
   ],
   "source": [
    "with torch.inference_mode():\n",
    "    y_pred = model_0(x_test)\n",
    "plot_predictions(predictions=y_pred)\n",
    "print(\"Error: \", (y_test - y_pred))"
   ]
  },
  {
   "attachments": {},
   "cell_type": "markdown",
   "metadata": {},
   "source": [
    "Training"
   ]
  },
  {
   "attachments": {},
   "cell_type": "markdown",
   "metadata": {},
   "source": [
    "Deep learning notes covers it in detail\n",
    "1. Training mainly requires 2 things: loss function and optimizer\n",
    "2. Mean Absolute error (torch.nn.L1Loss()) for regression and Binary cross entropy for classification (tirch.nn.BCELoss()) are popular loss functions\n",
    "3. Adam or SGD (in one note) are popular optimizers.\n",
    "The following code illustrates the setup"
   ]
  },
  {
   "cell_type": "code",
   "execution_count": 9,
   "metadata": {},
   "outputs": [],
   "source": [
    "#Loss function\n",
    "loss_func = nn.L1Loss()\n",
    "#Optimiser\n",
    "optimiser = torch.optim.SGD(params=model_0.parameters(), lr = 0.01) #setting learning rate as 0.01 for model_0 params"
   ]
  },
  {
   "attachments": {},
   "cell_type": "markdown",
   "metadata": {},
   "source": [
    "The training and testing phase can be detailed as follows\n",
    "\n",
    "Training\n",
    "1. Set to train mode using model.train() (this in default)\n",
    "2. Forward pass using model(x_train)\n",
    "3. calculate the loss between predicted value and true label value using loss_func()\n",
    "4. do optimiser.zero_grad() to avoid gradient accumulation over epochs \n",
    "5. perform back prop on the obtained loss function\n",
    "6. Do optimiser.step() to update the models params based on calculated values from backprop\n",
    "\n",
    "Testing\n",
    "1. set to model.eval() mode to disable some training functionality\n",
    "2. with indference_mode() do prediction usin model(x_test) inference mode makes gaining inferece faster\n",
    "3. compute loss value using loss function\n",
    "4. Display all the values"
   ]
  },
  {
   "cell_type": "code",
   "execution_count": 10,
   "metadata": {},
   "outputs": [
    {
     "name": "stdout",
     "output_type": "stream",
     "text": [
      "epoch: 0 || Train Loss: 0.31288138031959534 || Test Loss: 0.48106518387794495\n",
      "epoch: 10 || Train Loss: 0.1976713240146637 || Test Loss: 0.3463551998138428\n",
      "epoch: 20 || Train Loss: 0.08908725529909134 || Test Loss: 0.21729660034179688\n",
      "epoch: 30 || Train Loss: 0.053148526698350906 || Test Loss: 0.14464017748832703\n",
      "epoch: 40 || Train Loss: 0.04543796554207802 || Test Loss: 0.11360953003168106\n",
      "epoch: 50 || Train Loss: 0.04167863354086876 || Test Loss: 0.09919948130846024\n",
      "epoch: 60 || Train Loss: 0.03818932920694351 || Test Loss: 0.08886633068323135\n",
      "epoch: 70 || Train Loss: 0.03476089984178543 || Test Loss: 0.0805937647819519\n",
      "epoch: 80 || Train Loss: 0.03132382780313492 || Test Loss: 0.07232122868299484\n",
      "epoch: 90 || Train Loss: 0.02788739837706089 || Test Loss: 0.06473556160926819\n"
     ]
    }
   ],
   "source": [
    "torch.manual_seed(42)\n",
    "\n",
    "epochs = 100\n",
    "\n",
    "#creating lists to display the loss and epoch values\n",
    "\n",
    "train_loss_values = [] #Holds just loss values (mean of all losses here)\n",
    "test_loss_values = []\n",
    "epoch_count = []\n",
    "\n",
    "for epoch in range(epochs):\n",
    "\n",
    "    #Training mode\n",
    "    model_0.train()\n",
    "\n",
    "    #Forward Pass\n",
    "    y_pred = model_0(x_train) \n",
    "\n",
    "    #compute train loss\n",
    "    train_loss = loss_func(y_pred, y_train)  #holds grad function and train loss value for backprop\n",
    "\n",
    "    #optimiser zero \n",
    "    optimiser.zero_grad()\n",
    "\n",
    "    #backprop\n",
    "    train_loss.backward()\n",
    "\n",
    "    #progress optimiser\n",
    "    optimiser.step()\n",
    "\n",
    "    ##Testing: eval mode\n",
    "    model_0.eval()\n",
    "\n",
    "    with torch.inference_mode():\n",
    "        test_pred = model_0(x_test)\n",
    "\n",
    "        test_loss = loss_func(test_pred, y_test)\n",
    "\n",
    "    #printing every 10 epochs\n",
    "    if epoch % 10 == 0:\n",
    "        epoch_count.append(epoch)\n",
    "        train_loss_values.append(train_loss.detach().numpy())\n",
    "        test_loss_values.append(test_loss.detach().numpy())\n",
    "        print(f\"epoch: {epoch} || Train Loss: {train_loss} || Test Loss: {test_loss}\")"
   ]
  },
  {
   "cell_type": "code",
   "execution_count": 11,
   "metadata": {},
   "outputs": [
    {
     "data": {
      "image/png": "[encoded data removed]",
      "text/plain": [
       "<Figure size 432x288 with 1 Axes>"
      ]
     },
     "metadata": {
      "needs_background": "light"
     },
     "output_type": "display_data"
    }
   ],
   "source": [
    "#plotting the values\n",
    "plt.plot(epoch_count, train_loss_values, label=\"Train Loss\")\n",
    "plt.plot(epoch_count, test_loss_values, label=\"Test Loss\")\n",
    "plt.title(\"Training and test loss curves\")\n",
    "plt.ylabel(\"Loss\")\n",
    "plt.xlabel(\"Epochs\")\n",
    "plt.legend();"
   ]
  },
  {
   "cell_type": "code",
   "execution_count": 12,
   "metadata": {},
   "outputs": [
    {
     "name": "stdout",
     "output_type": "stream",
     "text": [
      "OrderedDict([('weights', tensor([0.5784])), ('bias', tensor([0.3513]))])\n"
     ]
    }
   ],
   "source": [
    "#comparing the predicted weights with the actual weights w=0.7 and b - 0.3\n",
    "print(model_0.state_dict())"
   ]
  },
  {
   "attachments": {},
   "cell_type": "markdown",
   "metadata": {},
   "source": [
    "Plotting the predictions"
   ]
  },
  {
   "cell_type": "code",
   "execution_count": 13,
   "metadata": {},
   "outputs": [
    {
     "data": {
      "image/png": "[encoded data removed]",
      "text/plain": [
       "<Figure size 720x720 with 1 Axes>"
      ]
     },
     "metadata": {
      "needs_background": "light"
     },
     "output_type": "display_data"
    }
   ],
   "source": [
    "plot_predictions(predictions=test_pred)"
   ]
  },
  {
   "attachments": {},
   "cell_type": "markdown",
   "metadata": {},
   "source": [
    "Saving and loading the model\n",
    "\n",
    "torch.save saves the model using python's pickle utility\n",
    "\n",
    "torch.load loads the model from the same utility\n",
    "\n",
    "torch.nn.load_state_dict loads model's learned params stored as a state_dict"
   ]
  },
  {
   "cell_type": "code",
   "execution_count": 37,
   "metadata": {},
   "outputs": [
    {
     "name": "stdout",
     "output_type": "stream",
     "text": [
      "Saving model to models\\Pytorch_workflow_fundamentals.pth\n"
     ]
    }
   ],
   "source": [
    "#saving the model\n",
    "from pathlib import Path\n",
    "#creating a directory\n",
    "path = \"models\"\n",
    "model_name = \"Pytorch_workflow_fundamentals.pth\"\n",
    "model_save_path = f\"{path}\\{model_name}\"\n",
    "\n",
    "#saving the model\n",
    "\n",
    "print(f\"Saving model to {model_save_path}\")\n",
    "torch.save(obj=model_0.state_dict(), f=model_save_path)"
   ]
  },
  {
   "cell_type": "code",
   "execution_count": 38,
   "metadata": {},
   "outputs": [
    {
     "data": {
      "text/plain": [
       "<All keys matched successfully>"
      ]
     },
     "execution_count": 38,
     "metadata": {},
     "output_type": "execute_result"
    }
   ],
   "source": [
    "#loading the model\n",
    "#since only the state_dict is saved, the a new model instance needs to be created and put these learned params into it. This practise is carried out so as \n",
    "#to maintain uniformaity across the community\n",
    "\n",
    "loaded_model = LinearRegressionModel() #new object\n",
    "\n",
    "loaded_model.load_state_dict(torch.load(f=model_save_path))\n"
   ]
  }
 ],
 "metadata": {
  "kernelspec": {
   "display_name": "Python 3",
   "language": "python",
   "name": "python3"
  },
  "language_info": {
   "codemirror_mode": {
    "name": "ipython",
    "version": 3
   },
   "file_extension": ".py",
   "mimetype": "text/x-python",
   "name": "python",
   "nbconvert_exporter": "python",
   "pygments_lexer": "ipython3",
   "version": "3.10.5"
  },
  "orig_nbformat": 4
 },
 "nbformat": 4,
 "nbformat_minor": 2
}
